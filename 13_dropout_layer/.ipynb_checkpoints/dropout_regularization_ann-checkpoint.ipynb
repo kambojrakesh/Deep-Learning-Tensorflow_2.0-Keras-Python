{
 "cells": [
  {
   "cell_type": "markdown",
   "metadata": {},
   "source": [
    "<h2 align='center' style='color:blue'>Dropout Regularization In Deep Neural Network</h2>"
   ]
  },
  {
   "cell_type": "markdown",
   "metadata": {},
   "source": [
    "This is a dataset that describes sonar chirp returns bouncing off different services. The 60 input variables are the strength of the returns at different angles. It is a **binary classification problem** that requires a model to differentiate rocks from metal cylinders.\n",
    "\n",
    "Dataset information: https://archive.ics.uci.edu/ml/datasets/Connectionist+Bench+(Sonar,+Mines+vs.+Rocks)\n",
    "Download it from here: https://archive.ics.uci.edu/ml/machine-learning-databases/undocumented/connectionist-bench/sonar/sonar.all-data"
   ]
  },
  {
   "cell_type": "code",
   "execution_count": 2,
   "metadata": {},
   "outputs": [],
   "source": [
    "import numpy as np\n",
    "import pandas as pd\n",
    "import matplotlib.pyplot as plt\n",
    "import seaborn as sns"
   ]
  },
  {
   "cell_type": "code",
   "execution_count": 3,
   "metadata": {},
   "outputs": [],
   "source": [
    "import warnings\n",
    "warnings.filterwarnings('ignore')"
   ]
  },
  {
   "cell_type": "code",
   "execution_count": 4,
   "metadata": {},
   "outputs": [
    {
     "data": {
      "text/html": [
       "<div>\n",
       "<style scoped>\n",
       "    .dataframe tbody tr th:only-of-type {\n",
       "        vertical-align: middle;\n",
       "    }\n",
       "\n",
       "    .dataframe tbody tr th {\n",
       "        vertical-align: top;\n",
       "    }\n",
       "\n",
       "    .dataframe thead th {\n",
       "        text-align: right;\n",
       "    }\n",
       "</style>\n",
       "<table border=\"1\" class=\"dataframe\">\n",
       "  <thead>\n",
       "    <tr style=\"text-align: right;\">\n",
       "      <th></th>\n",
       "      <th>0</th>\n",
       "      <th>1</th>\n",
       "      <th>2</th>\n",
       "      <th>3</th>\n",
       "      <th>4</th>\n",
       "      <th>5</th>\n",
       "      <th>6</th>\n",
       "      <th>7</th>\n",
       "      <th>8</th>\n",
       "      <th>9</th>\n",
       "      <th>...</th>\n",
       "      <th>51</th>\n",
       "      <th>52</th>\n",
       "      <th>53</th>\n",
       "      <th>54</th>\n",
       "      <th>55</th>\n",
       "      <th>56</th>\n",
       "      <th>57</th>\n",
       "      <th>58</th>\n",
       "      <th>59</th>\n",
       "      <th>60</th>\n",
       "    </tr>\n",
       "  </thead>\n",
       "  <tbody>\n",
       "    <tr>\n",
       "      <th>75</th>\n",
       "      <td>0.0202</td>\n",
       "      <td>0.0104</td>\n",
       "      <td>0.0325</td>\n",
       "      <td>0.0239</td>\n",
       "      <td>0.0807</td>\n",
       "      <td>0.1529</td>\n",
       "      <td>0.1154</td>\n",
       "      <td>0.0608</td>\n",
       "      <td>0.1317</td>\n",
       "      <td>0.1370</td>\n",
       "      <td>...</td>\n",
       "      <td>0.0127</td>\n",
       "      <td>0.0081</td>\n",
       "      <td>0.0067</td>\n",
       "      <td>0.0043</td>\n",
       "      <td>0.0065</td>\n",
       "      <td>0.0049</td>\n",
       "      <td>0.0054</td>\n",
       "      <td>0.0073</td>\n",
       "      <td>0.0054</td>\n",
       "      <td>R</td>\n",
       "    </tr>\n",
       "    <tr>\n",
       "      <th>169</th>\n",
       "      <td>0.0130</td>\n",
       "      <td>0.0120</td>\n",
       "      <td>0.0436</td>\n",
       "      <td>0.0624</td>\n",
       "      <td>0.0428</td>\n",
       "      <td>0.0349</td>\n",
       "      <td>0.0384</td>\n",
       "      <td>0.0446</td>\n",
       "      <td>0.1318</td>\n",
       "      <td>0.1375</td>\n",
       "      <td>...</td>\n",
       "      <td>0.0084</td>\n",
       "      <td>0.0100</td>\n",
       "      <td>0.0018</td>\n",
       "      <td>0.0035</td>\n",
       "      <td>0.0058</td>\n",
       "      <td>0.0011</td>\n",
       "      <td>0.0009</td>\n",
       "      <td>0.0033</td>\n",
       "      <td>0.0026</td>\n",
       "      <td>M</td>\n",
       "    </tr>\n",
       "    <tr>\n",
       "      <th>122</th>\n",
       "      <td>0.0249</td>\n",
       "      <td>0.0119</td>\n",
       "      <td>0.0277</td>\n",
       "      <td>0.0760</td>\n",
       "      <td>0.1218</td>\n",
       "      <td>0.1538</td>\n",
       "      <td>0.1192</td>\n",
       "      <td>0.1229</td>\n",
       "      <td>0.2119</td>\n",
       "      <td>0.2531</td>\n",
       "      <td>...</td>\n",
       "      <td>0.0027</td>\n",
       "      <td>0.0068</td>\n",
       "      <td>0.0150</td>\n",
       "      <td>0.0012</td>\n",
       "      <td>0.0133</td>\n",
       "      <td>0.0048</td>\n",
       "      <td>0.0244</td>\n",
       "      <td>0.0077</td>\n",
       "      <td>0.0074</td>\n",
       "      <td>M</td>\n",
       "    </tr>\n",
       "    <tr>\n",
       "      <th>173</th>\n",
       "      <td>0.0329</td>\n",
       "      <td>0.0216</td>\n",
       "      <td>0.0386</td>\n",
       "      <td>0.0627</td>\n",
       "      <td>0.1158</td>\n",
       "      <td>0.1482</td>\n",
       "      <td>0.2054</td>\n",
       "      <td>0.1605</td>\n",
       "      <td>0.2532</td>\n",
       "      <td>0.2672</td>\n",
       "      <td>...</td>\n",
       "      <td>0.0095</td>\n",
       "      <td>0.0151</td>\n",
       "      <td>0.0059</td>\n",
       "      <td>0.0015</td>\n",
       "      <td>0.0053</td>\n",
       "      <td>0.0016</td>\n",
       "      <td>0.0042</td>\n",
       "      <td>0.0053</td>\n",
       "      <td>0.0074</td>\n",
       "      <td>M</td>\n",
       "    </tr>\n",
       "    <tr>\n",
       "      <th>206</th>\n",
       "      <td>0.0303</td>\n",
       "      <td>0.0353</td>\n",
       "      <td>0.0490</td>\n",
       "      <td>0.0608</td>\n",
       "      <td>0.0167</td>\n",
       "      <td>0.1354</td>\n",
       "      <td>0.1465</td>\n",
       "      <td>0.1123</td>\n",
       "      <td>0.1945</td>\n",
       "      <td>0.2354</td>\n",
       "      <td>...</td>\n",
       "      <td>0.0086</td>\n",
       "      <td>0.0046</td>\n",
       "      <td>0.0126</td>\n",
       "      <td>0.0036</td>\n",
       "      <td>0.0035</td>\n",
       "      <td>0.0034</td>\n",
       "      <td>0.0079</td>\n",
       "      <td>0.0036</td>\n",
       "      <td>0.0048</td>\n",
       "      <td>M</td>\n",
       "    </tr>\n",
       "  </tbody>\n",
       "</table>\n",
       "<p>5 rows × 61 columns</p>\n",
       "</div>"
      ],
      "text/plain": [
       "         0       1       2       3       4       5       6       7       8   \\\n",
       "75   0.0202  0.0104  0.0325  0.0239  0.0807  0.1529  0.1154  0.0608  0.1317   \n",
       "169  0.0130  0.0120  0.0436  0.0624  0.0428  0.0349  0.0384  0.0446  0.1318   \n",
       "122  0.0249  0.0119  0.0277  0.0760  0.1218  0.1538  0.1192  0.1229  0.2119   \n",
       "173  0.0329  0.0216  0.0386  0.0627  0.1158  0.1482  0.2054  0.1605  0.2532   \n",
       "206  0.0303  0.0353  0.0490  0.0608  0.0167  0.1354  0.1465  0.1123  0.1945   \n",
       "\n",
       "         9   ...      51      52      53      54      55      56      57  \\\n",
       "75   0.1370  ...  0.0127  0.0081  0.0067  0.0043  0.0065  0.0049  0.0054   \n",
       "169  0.1375  ...  0.0084  0.0100  0.0018  0.0035  0.0058  0.0011  0.0009   \n",
       "122  0.2531  ...  0.0027  0.0068  0.0150  0.0012  0.0133  0.0048  0.0244   \n",
       "173  0.2672  ...  0.0095  0.0151  0.0059  0.0015  0.0053  0.0016  0.0042   \n",
       "206  0.2354  ...  0.0086  0.0046  0.0126  0.0036  0.0035  0.0034  0.0079   \n",
       "\n",
       "         58      59  60  \n",
       "75   0.0073  0.0054   R  \n",
       "169  0.0033  0.0026   M  \n",
       "122  0.0077  0.0074   M  \n",
       "173  0.0053  0.0074   M  \n",
       "206  0.0036  0.0048   M  \n",
       "\n",
       "[5 rows x 61 columns]"
      ]
     },
     "execution_count": 4,
     "metadata": {},
     "output_type": "execute_result"
    }
   ],
   "source": [
    "df = pd.read_csv(\"./sonar_dataset.csv\", header=None)\n",
    "df.sample(5)"
   ]
  },
  {
   "cell_type": "markdown",
   "metadata": {},
   "source": [
    "**You can see that by using dropout layer test accuracy increased from 0.77 to 0.81**"
   ]
  },
  {
   "cell_type": "code",
   "execution_count": 5,
   "metadata": {},
   "outputs": [
    {
     "data": {
      "text/plain": [
       "(208, 61)"
      ]
     },
     "execution_count": 5,
     "metadata": {},
     "output_type": "execute_result"
    }
   ],
   "source": [
    "df.shape"
   ]
  },
  {
   "cell_type": "code",
   "execution_count": 8,
   "metadata": {},
   "outputs": [
    {
     "data": {
      "text/plain": [
       "0     0\n",
       "1     0\n",
       "2     0\n",
       "3     0\n",
       "4     0\n",
       "     ..\n",
       "56    0\n",
       "57    0\n",
       "58    0\n",
       "59    0\n",
       "60    0\n",
       "Length: 61, dtype: int64"
      ]
     },
     "execution_count": 8,
     "metadata": {},
     "output_type": "execute_result"
    }
   ],
   "source": [
    "df.isna().sum()"
   ]
  },
  {
   "cell_type": "code",
   "execution_count": null,
   "metadata": {},
   "outputs": [],
   "source": []
  }
 ],
 "metadata": {
  "kernelspec": {
   "display_name": "Python 3",
   "language": "python",
   "name": "python3"
  },
  "language_info": {
   "codemirror_mode": {
    "name": "ipython",
    "version": 3
   },
   "file_extension": ".py",
   "mimetype": "text/x-python",
   "name": "python",
   "nbconvert_exporter": "python",
   "pygments_lexer": "ipython3",
   "version": "3.7.6"
  }
 },
 "nbformat": 4,
 "nbformat_minor": 2
}
